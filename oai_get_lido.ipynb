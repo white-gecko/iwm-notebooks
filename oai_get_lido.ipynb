{
 "cells": [
  {
   "cell_type": "markdown",
   "id": "4ce5cab4-4947-4ba3-85a2-5b72c295f72e",
   "metadata": {},
   "source": [
    "# OAI-PMH und LIDO Demo mit dem Städel Musem\n",
    "\n",
    "Das [Städel Museum](https://www.staedelmuseum.de/) in Frankfurt am Main bietet einen freien Zugang zu seiner [Sammlung](https://sammlung.staedelmuseum.de/de). Hier können wir ebenfalls eine [OAI-PMH Schnittstelle](https://sammlung.staedelmuseum.de/de/konzept#api) für ein kleines Beispiel nutzen, um sowohl OAI-PMH, als auch das Lightweight Information Describing Objects (LIDO) vorzustellen."
   ]
  },
  {
   "cell_type": "markdown",
   "id": "8815a241-6f8f-470f-b1ab-da8083a95948",
   "metadata": {},
   "source": [
    "Wir nutzen die [Sickl](https://sickle.readthedocs.io/) Bibliothek, welche uns ein wenig der OAI-PMH-Kommunikation versteckt. Zusätzlich habe ich in der Datei [oai_lib.py](/edit/oai_lib.py) einige weitere Helfer abgelegt.\n",
    "Der Helfer `get_sickle` gibt uns eine konfigurierte Instanzt der `Sickle` Klasse zurück, welche mit der OAI-PMH-Schnittstelle der DDB verbunden ist.\n",
    "\n",
    "> Da die späteren Zellen von vorhergehenden Zellen abhängen, sind Zellen, welche unabhängig von anderen Zellen ausgeführt werden können mit `# Einstiegspunkt` gekennzeichnet."
   ]
  },
  {
   "cell_type": "code",
   "execution_count": null,
   "id": "2c3f3245-84d2-4cf1-8be2-5e761746dfd9",
   "metadata": {},
   "outputs": [],
   "source": [
    "# Einstiegspunkt\n",
    "from oai_lib import get_sickle\n",
    "sickle = get_sickle(\"https://sammlung.staedelmuseum.de/api/oai\", \"lido\")"
   ]
  },
  {
   "cell_type": "markdown",
   "id": "50aff69c-518d-432e-a59d-8937e6520e4d",
   "metadata": {},
   "source": [
    "## Das Verb ListMetadataFormats\n",
    "\n",
    "Damit bekommen wir eine Liste der vom Städel angebotenen Metadaten-Formate.\n",
    "Wir können uns einmal die ganze Antwort der OAI-PMH-Schnittstelle anzeigen lassen … oder auch mit Hilfe der Sickl-Bibliothek durch die einzelnen Einträge iterieren.\n",
    "\n",
    "Im Angebot sind:\n",
    "- `oai_dc`: minimales Dublin Core\n",
    "- `lido`: Lightweight Information Describing Objects (LIDO), *daran sind wir interessiert*"
   ]
  },
  {
   "cell_type": "code",
   "execution_count": null,
   "id": "76ea00e9-e005-4657-8686-77f34832f2f6",
   "metadata": {},
   "outputs": [],
   "source": [
    "# Einstiegspunkt\n",
    "from oai_lib import get_sickle, display_oai, display_oai_tree\n",
    "sickle = get_sickle(\"https://sammlung.staedelmuseum.de/api/oai\", \"lido\")\n",
    "\n",
    "metadata_formats = sickle.ListMetadataFormats()\n",
    "\n",
    "display_oai_tree(metadata_formats)\n",
    "display_oai(metadata_formats)"
   ]
  },
  {
   "cell_type": "markdown",
   "id": "ff3286f0-5d09-4fd6-9a70-130f481b79ce",
   "metadata": {},
   "source": [
    "## Das Verb ListSets\n",
    "\n",
    "Das Städel bietet uns nur zwei Sets an."
   ]
  },
  {
   "cell_type": "code",
   "execution_count": null,
   "id": "cb1b4539-b8e6-44a5-bca6-304cca6f7b13",
   "metadata": {},
   "outputs": [],
   "source": [
    "# Einstiegspunkt\n",
    "from oai_lib import get_sickle, display_oai, display_oai_tree\n",
    "sickle = get_sickle(\"https://sammlung.staedelmuseum.de/api/oai\", \"lido\")\n",
    "\n",
    "oai_sets = sickle.ListSets()\n",
    "\n",
    "display_oai_tree(oai_sets)\n",
    "display_oai(oai_sets)"
   ]
  },
  {
   "cell_type": "markdown",
   "id": "b6b8b6a3-6d25-4676-9b97-244dfa4d5305",
   "metadata": {},
   "source": [
    "## Das Verb ListIdentifiers\n",
    "\n",
    "Nun iterieren wir über die erhaltenen Sets in `pd_image_sets`, von welchen es jeweils `mediatype_002` (Bild) und `rights_001` (Public Domain) Varianten geben soll.\n",
    "\n",
    "Um an die Identifier der Records zu gelangen rufen wir das Verb `ListIdentifiers` mit dem entsprechenden Identifier des Sets mit der Variante `mediatype_002` auf.\n",
    "Die Liste der Identifier der Records wird nochmal filtert, da wir nur an Records interessiert sind, welche auch in `rights_001` (Public Domain) Sets sind. Für unser Beispiel reicht es das Ergebnis auf 5 Einträge zu beschränken.\n",
    "\n",
    "Zusätzlich benötigt die Schnittselle die Angabe des Metadaten-Formats (`metadataPrefix`) und wir möchten gelöschte Einträge ignorieren.\n",
    "Falls ein Set leer ist ignorieren wir dieses und gehen zum nächsten Set weiter (`try: … except NoRecordsMatch: continue`).\n",
    "\n",
    "Die Ausgabe zeigt die Antwort der Schnittstelle auf den Aufruf mit dem Verb `ListIdentifiers`."
   ]
  },
  {
   "cell_type": "code",
   "execution_count": null,
   "id": "66a6446f-587f-4e9f-be41-13ecd80c4df2",
   "metadata": {},
   "outputs": [],
   "source": [
    "# Einstiegspunkt\n",
    "\n",
    "from sickle.oaiexceptions import NoRecordsMatch\n",
    "from rdflib import Graph\n",
    "from oai_lib import get_sickle, display_oai\n",
    "sickle = get_sickle(\"https://sammlung.staedelmuseum.de/api/oai\", \"lido\")\n",
    "\n",
    "identifiers = sickle.ListIdentifiers(metadataPrefix=\"lido\", set=\"scope:graphics\", ignore_deleted=True)\n",
    "\n",
    "display_oai(identifiers)"
   ]
  },
  {
   "cell_type": "markdown",
   "id": "fd680e8c-f2a9-4f5e-b917-b7296325d096",
   "metadata": {},
   "source": [
    "## Das Verb GetRecord\n",
    "\n",
    "Nun haben wir eine Liste von Identifiern von Records in `found_records`.\n",
    "Wir iterieren über diese Liste und rufen die Schnittstelle mit dem Verb `GetRecord` unter Angabe des Identifiers und des gewünschten Metadaten-Formats (`metadataPrefix`) auf. Die Ausgabe zeigt den zurückgegebenen Record an. Die durch die Schnittstellen übertragenen EDM-Metadaten sind innerhalb des `metadata`-Tags als XML-Baum."
   ]
  },
  {
   "cell_type": "code",
   "execution_count": null,
   "id": "e4b29422-43ce-4dd8-acfc-35326a2e8da1",
   "metadata": {},
   "outputs": [],
   "source": [
    "# Hängt von sickle und identifiers ab\n",
    "from oai_lib import display_oai, display_xml, display_xml_tree\n",
    "\n",
    "item = next(identifiers)\n",
    "record = sickle.GetRecord(metadataPrefix=\"lido\", identifier=item.identifier)\n",
    "display_oai(record)\n",
    "#display_xml(record.metadata)\n",
    "#display_xml_tree(record.metadata, \"LR\")"
   ]
  },
  {
   "cell_type": "markdown",
   "id": "48970239-e069-4175-94f0-fee25265d31b",
   "metadata": {},
   "source": [
    "## Beispielhafte Ausgabe der Metadaten\n",
    "\n",
    "Es werden einige Metadaten über xpath queries aus den LIDO Daten abgefragt.\n",
    "\n",
    "> Zwar stehen für Repository (Museum), Objektart und die Angaben zum Werkinhalt auch lesbare Bezeichner zur Verfügung, jedoch soll hier die Verknüpfung mit kontrolleirten Vokabularen demonstriert werden (GND, ICONCLASS, ISIL).\n"
   ]
  },
  {
   "cell_type": "code",
   "execution_count": null,
   "id": "3a9130ec-49c0-44cf-9084-b4736984df56",
   "metadata": {},
   "outputs": [],
   "source": [
    "# Hängt von record ab\n",
    "from IPython.display import display, Markdown\n",
    "\n",
    "namespaces = {p: n for p, n in record.metadata.nsmap.items() if p is not None}\n",
    "\n",
    "# descriptiveMetadata\n",
    "identificationWrap = record.metadata.xpath('//lido:lido/lido:descriptiveMetadata/lido:objectIdentificationWrap', namespaces=namespaces)[0]\n",
    "relationWrap = record.metadata.xpath('//lido:lido/lido:descriptiveMetadata/lido:objectRelationWrap', namespaces=namespaces)[0]\n",
    "eventWrap = record.metadata.xpath('//lido:lido/lido:descriptiveMetadata/lido:eventWrap', namespaces=namespaces)[0]\n",
    "\n",
    "titel = identificationWrap.xpath('//lido:titleWrap/lido:titleSet[@lido:type=\"http://vocab.getty.edu/aat/300417200\"]/lido:appellationValue[@xml:lang=\"de\"]/text()', namespaces=namespaces)\n",
    "iri_museum = identificationWrap.xpath('//lido:repositoryWrap/lido:repositorySet/lido:repositoryName/lido:legalBodyID/text()', namespaces=namespaces)\n",
    "objekt_art = identificationWrap.xpath('//lido:objectWorkTypeWrap/lido:objectWorkType/lido:conceptID/text()', namespaces=namespaces)\n",
    "\n",
    "werkinhalt = relationWrap.xpath('//lido:subjectWrap/lido:subjectSet/lido:subject/lido:subjectConcept/lido:conceptID[@lido:type=\"http://terminology.lido-schema.org/identifier_type/uri\"]/text()', namespaces=namespaces)\n",
    "\n",
    "events = eventWrap.xpath('//lido:eventSet/lido:event/lido:eventType/lido:conceptID/text()', namespaces=namespaces)\n",
    "kuenstler = eventWrap.xpath('//lido:eventSet/lido:event[lido:eventType/lido:conceptID/text() = \"http://terminology.lido-schema.org/eventType/production\"]/lido:eventActor/lido:displayActorInRole[@xml:lang=\"de\"]/text()', namespaces=namespaces)\n",
    "\n",
    "# administrativeMetadata\n",
    "administrativeMetadata = record.metadata.xpath('//lido:lido/lido:administrativeMetadata', namespaces=namespaces)[0]\n",
    "\n",
    "vorschau = administrativeMetadata.xpath('//lido:resourceWrap/lido:resourceSet/lido:resourceRepresentation[@lido:type=\"http://terminology.lido-schema.org/lido00451\"]/lido:linkResource/text()', namespaces=namespaces)\n",
    "representation_lieferung = administrativeMetadata.xpath('//lido:resourceWrap/lido:resourceSet/lido:resourceRepresentation[@lido:type=\"http://terminology.lido-schema.org/lido00464\"]/lido:linkResource/text()', namespaces=namespaces)\n",
    "creditLine = administrativeMetadata.xpath('//lido:rightsWorkWrap/lido:rightsWorkSet/lido:creditLine/text()', namespaces=namespaces)\n",
    "\n",
    "display(Markdown(f\"\"\"\n",
    "| | |\n",
    "|-|-|\n",
    "| Titel | {titel[0]} |\n",
    "| Künstler | {kuenstler[0]} |\n",
    "| Repository (Museum) | {iri_museum[0]} |\n",
    "| Objektart | {objekt_art[0]} |\n",
    "| Werkinhalt | {werkinhalt} |\n",
    "| Ereignisse | {events} |\n",
    "\n",
    "Metadata: {creditLine[0]}\n",
    "\n",
    "[![{titel[0]}]({vorschau[0]})]({representation_lieferung[0]})\n",
    "\n",
    "Bild: CC BY-SA 4.0 Städel Museum, Frankfurt am Main\n",
    "\n",
    "\"\"\"))"
   ]
  }
 ],
 "metadata": {
  "kernelspec": {
   "display_name": "Python 3 (ipykernel)",
   "language": "python",
   "name": "python3"
  },
  "language_info": {
   "codemirror_mode": {
    "name": "ipython",
    "version": 3
   },
   "file_extension": ".py",
   "mimetype": "text/x-python",
   "name": "python",
   "nbconvert_exporter": "python",
   "pygments_lexer": "ipython3",
   "version": "3.12.2"
  }
 },
 "nbformat": 4,
 "nbformat_minor": 5
}
