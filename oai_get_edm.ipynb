{
 "cells": [
  {
   "cell_type": "markdown",
   "id": "4ce5cab4-4947-4ba3-85a2-5b72c295f72e",
   "metadata": {},
   "source": [
    "# OAI-PMH und EDM Demo mit der Deutschen Digitalen Bibliothek (DDB)\n",
    "\n",
    "Die [Deutsche Digitale Bibliothek](https://deutsche-digitale-bibliothek.de/) bietet die Möglichkeit eine große Menge an Kulturdaten frei zu [nutzen](https://pro.deutsche-digitale-bibliothek.de/daten-nutzen). Dafür wird unter Anderem eine [OAI-PMH Schnittstelle](https://pro.deutsche-digitale-bibliothek.de/daten-nutzen/schnittstellen) angeboten. Diese Schnittstelle nutzen wir für ein kleines Beispiel, um sowohl OAI-PMH, als auch das Europeana Data Model (EDM) vorzustellen."
   ]
  },
  {
   "cell_type": "markdown",
   "id": "8815a241-6f8f-470f-b1ab-da8083a95948",
   "metadata": {},
   "source": [
    "Wir nutzen die [Sickl](https://sickle.readthedocs.io/) Bibliothek, welche uns ein wenig der OAI-PMH-Kommunikation versteckt. Zusätzlich habe ich in der Datei [oai_lib.py](/edit/oai_lib.py) einige weitere Helfer abgelegt.\n",
    "Der Helfer `get_sickle` gibt uns eine konfigurierte Instanzt der `Sickle` Klasse zurück, welche mit der OAI-PMH-Schnittstelle der DDB verbunden ist.\n",
    "\n",
    "> Da die späteren Zellen von vorhergehenden Zellen abhängen, sind Zellen, welche unabhängig von anderen Zellen ausgeführt werden können mit `# Einstiegspunkt` gekennzeichnet."
   ]
  },
  {
   "cell_type": "code",
   "execution_count": null,
   "id": "2c3f3245-84d2-4cf1-8be2-5e761746dfd9",
   "metadata": {},
   "outputs": [],
   "source": [
    "# Einstiegspunkt\n",
    "from oai_lib import get_sickle\n",
    "sickle = get_sickle(\"https://oai.deutsche-digitale-bibliothek.de/\", \"edm\")"
   ]
  },
  {
   "cell_type": "markdown",
   "id": "50aff69c-518d-432e-a59d-8937e6520e4d",
   "metadata": {},
   "source": [
    "## Das Verb ListMetadataFormats\n",
    "\n",
    "Damit bekommen wir eine Liste der von der DDB angebotenen Metadaten-Formate.\n",
    "Wir können uns einmal die ganze Antwort der OAI-PMH-Schnittstelle anzeigen lassen … oder auch mit Hilfe der Sickl-Bibliothek durch die einzelnen Einträge iterieren.\n",
    "\n",
    "Im Angebot sind:\n",
    "- `oai_dc`: minimales Dublin Core\n",
    "- `edm`: das Europeana Data Model (EDM), *daran sind wir interessiert*\n",
    "- `ddb`: das vollständige Austauschformat der DDB, bassierend unter Anderem aud EDM"
   ]
  },
  {
   "cell_type": "code",
   "execution_count": null,
   "id": "76ea00e9-e005-4657-8686-77f34832f2f6",
   "metadata": {},
   "outputs": [],
   "source": [
    "# Einstiegspunkt\n",
    "from oai_lib import get_sickle, display_oai\n",
    "sickle = get_sickle(\"https://oai.deutsche-digitale-bibliothek.de/\", \"edm\")\n",
    "\n",
    "metadata_formats = sickle.ListMetadataFormats()\n",
    "\n",
    "display_oai(metadata_formats)"
   ]
  },
  {
   "cell_type": "code",
   "execution_count": null,
   "id": "954af520-52f0-4e11-9fca-9b3869cf89b9",
   "metadata": {},
   "outputs": [],
   "source": [
    "# Einstiegspunkt\n",
    "from oai_lib import get_sickle, display_xmls\n",
    "sickle = get_sickle(\"https://oai.deutsche-digitale-bibliothek.de/\", \"edm\")\n",
    "\n",
    "metadata_formats = sickle.ListMetadataFormats()\n",
    "\n",
    "for metadata_format in metadata_formats:\n",
    "    display_xmls(metadata_format)"
   ]
  },
  {
   "cell_type": "markdown",
   "id": "ff3286f0-5d09-4fd6-9a70-130f481b79ce",
   "metadata": {},
   "source": [
    "## Das Verb ListSets\n",
    "\n",
    "Die DDB bietet Sets mit speziellen Bezeichnungen an:\n",
    "\n",
    "| Benennung des Datensets | Kommentar |\n",
    "|-|-|\n",
    "| `<dataset_id>` | ID des Datensets, die beim Ingest der Daten gebildet wird. |\n",
    "| `<dataset_id>:<provider_id>` | Provider-ID. Ein Datenset kann Daten mehrere Datenpartner beinhalten. |\n",
    "| `<dataset_id>:<type_fct>` | Medientyp. Ein Datenpartner möchte z.B. nur die Videos aus einem Datenset liefern. (Eine Liste der Medientypen findet sich im [Wiki der DDB](https://wiki.deutsche-digitale-bibliothek.de/pages/viewpage.action?pageId=27627109#OAI/PMHSchnittstelle-OAI-Datensets)) |\n",
    "| `<dataset_id>:<license>` | Lizenz. Ein Datenpartner möchte nur die Objekte mit der Lizenz „RV-FZ“ innerhalb eines Datensets liefern. (Eine Liste der Lizenzen findet sich im [Repository der DDB](https://dev.fiz-karlsruhe.de/stash/projects/DDB/repos/ddb-mapping-new/browse/opt/transformationdir/conf/concordance/common/license_group.xml)) |\n",
    "\n",
    "(Siehe: [OAI-PMH Schnittstelle](https://pro.deutsche-digitale-bibliothek.de/daten-nutzen/schnittstellen))\n",
    "\n",
    "Wir möchten Bilder: `mediatype_002` die in der Public Domain: `rights_001` sind.\n",
    "\n",
    "Wir nutzen die Bezeichnungen der Sets in der DDB und filtern alle Sets heraus, welche ebenfalls Teilsets mit den Bezeichnungen `mediatype_002` und `rights_001` nach dem Doppelpunkt haben."
   ]
  },
  {
   "cell_type": "code",
   "execution_count": null,
   "id": "cb1b4539-b8e6-44a5-bca6-304cca6f7b13",
   "metadata": {},
   "outputs": [],
   "source": [
    "# Einstiegspunkt\n",
    "from collections import defaultdict\n",
    "from oai_lib import get_sickle\n",
    "sickle = get_sickle(\"https://oai.deutsche-digitale-bibliothek.de/\", \"edm\")\n",
    "\n",
    "oai_sets = sickle.ListSets()\n",
    "\n",
    "oai_ddb_sets = defaultdict(list)\n",
    "for oai_set in oai_sets:\n",
    "    if oai_set.setSpec.find(\":\") > 0:\n",
    "        oai_ddb_sets[oai_set.setSpec.split(\":\")[0]].append(oai_set.setSpec.split(\":\")[1])\n",
    "\n",
    "# Hier kommt der Filter\n",
    "pd_image_sets = list([oai_set for oai_set, set_types in oai_ddb_sets.items() if \"mediatype_002\" in set_types and \"rights_001\" in set_types])\n",
    "\n",
    "print(f\"Es sind {len(pd_image_sets)} Sets übrig geblieben, das sind die Identifier: {pd_image_sets}\")"
   ]
  },
  {
   "cell_type": "markdown",
   "id": "b6b8b6a3-6d25-4676-9b97-244dfa4d5305",
   "metadata": {},
   "source": [
    "## Das Verb ListIdentifiers\n",
    "\n",
    "Nun iterieren wir über die erhaltenen Sets in `pd_image_sets`, von welchen es jeweils `mediatype_002` (Bild) und `rights_001` (Public Domain) Varianten geben soll.\n",
    "\n",
    "Um an die Identifier der Records zu gelangen rufen wir das Verb `ListIdentifiers` mit dem entsprechenden Identifier des Sets mit der Variante `mediatype_002` auf.\n",
    "Die Liste der Identifier der Records wird nochmal filtert, da wir nur an Records interessiert sind, welche auch in `rights_001` (Public Domain) Sets sind. Für unser Beispiel reicht es das Ergebnis auf 5 Einträge zu beschränken.\n",
    "\n",
    "Zusätzlich benötigt die Schnittselle die Angabe des Metadaten-Formats (`metadataPrefix`) und wir möchten gelöschte Einträge ignorieren.\n",
    "Falls ein Set leer ist ignorieren wir dieses und gehen zum nächsten Set weiter (`try: … except NoRecordsMatch: continue`).\n",
    "\n",
    "Die Ausgabe zeigt die Antwort der Schnittstelle auf den Aufruf mit dem Verb `ListIdentifiers`."
   ]
  },
  {
   "cell_type": "code",
   "execution_count": null,
   "id": "66a6446f-587f-4e9f-be41-13ecd80c4df2",
   "metadata": {},
   "outputs": [],
   "source": [
    "# Hängt von sickle und pd_image_sets ab\n",
    "\n",
    "from sickle.oaiexceptions import NoRecordsMatch\n",
    "from oai_lib import display_oai\n",
    "\n",
    "# set 10194217484138024qoAN \"Alice Salomon Archiv der ASH Berlin. Bibliothek\"\n",
    "# set 11408573972398282WpEZ \"MONAliesA Feministische Bibliothek\"\n",
    "\n",
    "found_records = []\n",
    "limit = 5\n",
    "for oai_set in pd_image_sets[4:]:\n",
    "    try:\n",
    "        identifiers = sickle.ListIdentifiers(metadataPrefix=\"edm\", set=oai_set + \":mediatype_002\", ignore_deleted=True)\n",
    "    except NoRecordsMatch:\n",
    "        continue\n",
    "    display_oai(identifiers)\n",
    "    \n",
    "    for item in identifiers:\n",
    "        if oai_set + \":rights_001\" in item.setSpecs:\n",
    "            limit -= 1\n",
    "            if limit < 0: break\n",
    "            found_records.append(item)\n",
    "    if limit < 0: break"
   ]
  },
  {
   "cell_type": "markdown",
   "id": "fd680e8c-f2a9-4f5e-b917-b7296325d096",
   "metadata": {},
   "source": [
    "## Das Verb GetRecord\n",
    "\n",
    "Nun haben wir eine Liste von Identifiern von Records in `found_records`.\n",
    "Wir iterieren über diese Liste und rufen die Schnittstelle mit dem Verb `GetRecord` unter Angabe des Identifiers und des gewünschten Metadaten-Formats (`metadataPrefix`) auf. Die Ausgabe zeigt den zurückgegebenen Record an. Die durch die Schnittstellen übertragenen EDM-Metadaten sind innerhalb des `metadata`-Tags als RDF/XML-Graph.\n",
    "Wir laden die Metadaten der 5 Records in einen gemeinsamen RDF-Graph groß-`G` und heben uns ein einzelnen Beispiel in klein-`g` auf.\n",
    "\n",
    "Eventuelle Fehler werden ignoriert."
   ]
  },
  {
   "cell_type": "code",
   "execution_count": null,
   "id": "e4b29422-43ce-4dd8-acfc-35326a2e8da1",
   "metadata": {},
   "outputs": [],
   "source": [
    "# Hängt von sickle und found_records ab\n",
    "from rdflib import Graph\n",
    "from oai_lib import display_oai\n",
    "\n",
    "G = Graph()\n",
    "for item in found_records:\n",
    "    try:\n",
    "        record = sickle.GetRecord(metadataPrefix=\"edm\", identifier=item.identifier)\n",
    "        display_oai(record)\n",
    "        G = G + record.metadata\n",
    "        g = record.metadata\n",
    "    except Exception:\n",
    "        continue"
   ]
  },
  {
   "cell_type": "markdown",
   "id": "226a2493-6f51-41ff-9c6b-0d265674765f",
   "metadata": {},
   "source": [
    "## Anzeige der EDM-Metadaten als Graph"
   ]
  },
  {
   "cell_type": "code",
   "execution_count": null,
   "id": "202f9c82-cee1-4e23-8587-4be72e5c9254",
   "metadata": {},
   "outputs": [],
   "source": [
    "# Hängt ab von g\n",
    "\n",
    "from oai_lib import display_graph\n",
    "\n",
    "display_graph(g)"
   ]
  },
  {
   "cell_type": "markdown",
   "id": "5a293d88-2cec-4ffa-b25c-ba659fe3224a",
   "metadata": {},
   "source": [
    "## Anzeige der EDM-Metadaten als Turtle-Datei"
   ]
  },
  {
   "cell_type": "code",
   "execution_count": null,
   "id": "ea1b270b-ac3b-417b-968c-65ebd17d2e31",
   "metadata": {},
   "outputs": [],
   "source": [
    "# Hängt ab von g\n",
    "\n",
    "from oai_lib import display_turtle\n",
    "\n",
    "display_turtle(g)"
   ]
  },
  {
   "cell_type": "markdown",
   "id": "7b676251-6433-460f-9ba9-a9a184a780e3",
   "metadata": {},
   "source": [
    "## Anzeige der ge-harvesteten Medienwerke"
   ]
  },
  {
   "cell_type": "code",
   "execution_count": null,
   "id": "cb6495c5-7473-488c-8f3d-61e7d55f4fe9",
   "metadata": {},
   "outputs": [],
   "source": [
    "# Hängt ab von G\n",
    "\n",
    "from IPython.display import display, Image, Markdown\n",
    "\n",
    "results = G.query(\"\"\"\n",
    "prefix dc: <http://purl.org/dc/elements/1.1/>\n",
    "prefix edm: <http://www.europeana.eu/schemas/edm/>\n",
    "select ?image {\n",
    "    ?image a edm:WebResource ;\n",
    "        dc:format ?format .\n",
    "    filter(strStarts(?format, \"image/\"))\n",
    "}\n",
    "\"\"\")\n",
    "\n",
    "items = []\n",
    "for row in results:\n",
    "    image_url = row[\"image\"]\n",
    "    items.append(Image(url=row[\"image\"], width=200))\n",
    "    items.append(Markdown(f\"[^link]({image_url})\"))\n",
    "\n",
    "display(*items)"
   ]
  }
 ],
 "metadata": {
  "kernelspec": {
   "display_name": "Python 3 (ipykernel)",
   "language": "python",
   "name": "python3"
  },
  "language_info": {
   "codemirror_mode": {
    "name": "ipython",
    "version": 3
   },
   "file_extension": ".py",
   "mimetype": "text/x-python",
   "name": "python",
   "nbconvert_exporter": "python",
   "pygments_lexer": "ipython3",
   "version": "3.12.2"
  }
 },
 "nbformat": 4,
 "nbformat_minor": 5
}
